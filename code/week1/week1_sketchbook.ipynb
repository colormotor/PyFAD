{
 "cells": [
  {
   "attachments": {
    "image.png": {
     "image/png": "[encoded data removed]"
    }
   },
   "cell_type": "markdown",
   "id": "a574cc62",
   "metadata": {},
   "source": [
    "# Week 1 Sketchbook\n",
    "\n",
    "Each week you will be provided a \"sketchbook\" to work on during the labs and during the days that follow. The sketchbook is a Jupyter notebook, which is an interactive document that can contain both text and code. You can run the code cells in the notebook and see the output directly below the cell. You can also add your own code cells and text cells to the notebook. \n",
    "\n",
    "The idea is for you to have a place where to experiment, while also being able to take notes and document your learning process.\n",
    "You are not obliged to, but you will be able to submit notebooks as part of your assessment in a way that merges code and documentation. If you don't do this you will need to submit separate code files and a report.\n",
    "\n",
    "The notebook is composed of \"cells\" and there are two main types of cells: **code cells** and **markdown cells**:\n",
    "\n",
    "- Code cells contain Python code that can be executed\n",
    "- Markdown cells contain formatted text (using Markdown) that can be used for documentation and notes. Here is a [\"cheat sheet\"](https://github.com/adam-p/markdown-here/wiki/markdown-cheatsheet) for Markdown syntax.\n",
    "\n",
    "In Visual Studio Code, each cell has a little \"play\" button on the left side that you can click to run the cell or view it formatted if it is a text cell. You can also use the keyboard shortcut `Shift + Enter` to run the current cell and move to the next one, or `Ctrl + Enter` to run the current cell and stay in it. Double-clicking on a text cell will allow you to edit it. Hovering the cell will show little buttons to add new cells above or below the current one:\n",
    "\n",
    "![image.png](attachment:image.png)\n",
    "\n",
    "The \"Generate\" cell allows you to use AI to generate code or text based on a prompt. You can click on it to see how it works, but I suggest you start by writing your own code and text first to gain a better understanding of the material."
   ]
  },
  {
   "cell_type": "markdown",
   "id": "4bd7ecb4",
   "metadata": {},
   "source": [
    "# Lab exercises\n",
    "\n",
    "After you installed all the required dependencies...\n",
    "\n"
   ]
  },
  {
   "cell_type": "markdown",
   "id": "19f0026a",
   "metadata": {},
   "source": [
    "## Programming in a notebook\n",
    "\n",
    "In the first two weeks of the module we will be working exclusively in Jupyter (Python) notebooks. The way in which coding functions in a notebook is slightly different from the typical procedure in which you execute oa program until it ends. You can think of a notebook more as a program that is running and you are able to modify it as it is running. \n",
    "\n",
    "When you execute a code cell (by pressing the play buttom or using Shift-RETURN or Ctrl-RETURN on the keyboard), you are actually executing a piece of code that modifies the \"state\" of the notebook. You are able to execute code cells in any order you wish and that can get a little confusing. e.g. you can assign a value to a variable `a`:"
   ]
  },
  {
   "cell_type": "code",
   "execution_count": 2,
   "id": "f8c2d05a",
   "metadata": {},
   "outputs": [],
   "source": [
    "a = 10"
   ]
  },
  {
   "cell_type": "markdown",
   "id": "17afbf56",
   "metadata": {},
   "source": [
    "And then print its value:"
   ]
  },
  {
   "cell_type": "code",
   "execution_count": 3,
   "id": "a02a3da2",
   "metadata": {},
   "outputs": [
    {
     "name": "stdout",
     "output_type": "stream",
     "text": [
      "The value of a is 10\n"
     ]
    }
   ],
   "source": [
    "print('The value of a is', a)"
   ]
  },
  {
   "cell_type": "markdown",
   "id": "f08cf11a",
   "metadata": {},
   "source": [
    "But if you reassign it anther value by executing the cell below, and *after* execute the printing cell above you will see that the value of `a` changed. This value is not \"stored\" in the memory of the notebook, and accessible to any code cell before of after the current."
   ]
  },
  {
   "cell_type": "code",
   "execution_count": 4,
   "id": "e4e3880d",
   "metadata": {},
   "outputs": [],
   "source": [
    "a = -5"
   ]
  },
  {
   "cell_type": "markdown",
   "id": "ab6d30b2",
   "metadata": {},
   "source": [
    "Experiment with executing cells and how the order affects the results. \n",
    "\n",
    "Similarly, if you \"activate\" py5canvas by doing"
   ]
  },
  {
   "cell_type": "code",
   "execution_count": 5,
   "id": "5b0b17b8",
   "metadata": {},
   "outputs": [],
   "source": [
    "from py5canvas import *"
   ]
  },
  {
   "attachments": {
    "image.png": {
     "image/png": "[encoded data removed]"
    }
   },
   "cell_type": "markdown",
   "id": "c8dc73aa",
   "metadata": {},
   "source": [
    "This will be now valid for the whole notebook, unless you press ![ ](attachment:image.png) in the toolbar above the file. "
   ]
  },
  {
   "cell_type": "markdown",
   "id": "2cbabff9",
   "metadata": {},
   "source": [
    "## Drawing and coloring shapes\n",
    "\n",
    "Refer to these tutorials converted from Daniel Shiffman's Nature of Code book:\n",
    "- [Tutorial on coordinate systems and shapes](./coordinate_system_and_shapes.ipynb)\n",
    "- [Tutorial on colors](./color.ipynb)\n",
    "Then try to create your own creature similar to this image of \"Zoog\":"
   ]
  },
  {
   "cell_type": "code",
   "execution_count": 6,
   "id": "49720e78",
   "metadata": {},
   "outputs": [
    {
     "data": {
      "image/jpeg": "[encoded data removed]",
      "image/png": "[encoded data removed]",
      "text/plain": [
       "<PIL.Image.Image image mode=RGB size=200x200>"
      ]
     },
     "metadata": {},
     "output_type": "display_data"
    }
   ],
   "source": [
    "from py5canvas import *\n",
    "\n",
    "size(200, 200)\n",
    "\n",
    "rect_mode(CENTER)\n",
    "rect((100, 100), 20, 100)\n",
    "ellipse((100, 70), 60, 60)\n",
    "ellipse((81, 70), 16, 32)\n",
    "ellipse((119, 70), 16, 32)\n",
    "line((90, 150), (80, 160))\n",
    "line((110, 150), (120, 160))\n",
    "\n",
    "show()"
   ]
  },
  {
   "cell_type": "markdown",
   "id": "d3982b8b",
   "metadata": {},
   "source": [
    "Try to:\n",
    "- Use color.\n",
    "- Experiment with different shapes, canvas sizes.\n",
    "\n",
    "use the code cell below to practice and possibly:\n",
    "- Create additional code cells with different versions of your creature.\n",
    "- Possibly put Markdown cells before your code cell with comments on your process, experiment with Markdown formatting (you can refer to the [MD cheat sheet](https://github.com/adam-p/markdown-here/wiki/markdown-cheatsheet))."
   ]
  },
  {
   "cell_type": "code",
   "execution_count": 7,
   "id": "90278107",
   "metadata": {},
   "outputs": [
    {
     "data": {
      "image/jpeg": "[encoded data removed]",
      "image/png": "[encoded data removed]",
      "text/plain": [
       "<PIL.Image.Image image mode=RGB size=200x200>"
      ]
     },
     "metadata": {},
     "output_type": "display_data"
    }
   ],
   "source": [
    "from py5canvas import *\n",
    "\n",
    "size(200, 200)\n",
    "# Your creature code here\n",
    "show()"
   ]
  },
  {
   "cell_type": "markdown",
   "id": "d059addd",
   "metadata": {},
   "source": [
    "## Shape stack\n",
    "\n",
    "![image.png](attachment:image.png)\n",
    "\n",
    "Attempt to recreate this image with code in the code shell below, you can use the `width` and `height` properties to get the width/height of the canvas, the `circle(x, y, radius)` and `rectangle(x, y, w, h)` functions to draw shapes and `fill(r, g, b)` to select the fill color, e.g. `fill(255, 0, 0)` sets the fill color to red and `circle(width/2, height/2, 50)` draws a circle at the center of the canvas with a radius of 50 pixels"
   ]
  },
  {
   "cell_type": "code",
   "execution_count": 8,
   "id": "1dd17204",
   "metadata": {},
   "outputs": [
    {
     "data": {
      "image/jpeg": "[encoded data removed]",
      "image/png": "[encoded data removed]",
      "text/plain": [
       "<PIL.Image.Image image mode=RGB size=512x512>"
      ]
     },
     "metadata": {},
     "output_type": "display_data"
    }
   ],
   "source": [
    "from py5canvas import *\n",
    "\n",
    "create_canvas(512, 512)\n",
    "background(255) # white background\n",
    "no_stroke()\n",
    "# write the code here\n",
    "show()"
   ]
  },
  {
   "cell_type": "markdown",
   "id": "dea4388d",
   "metadata": {},
   "source": []
  }
 ],
 "metadata": {
  "kernelspec": {
   "display_name": "base",
   "language": "python",
   "name": "python3"
  },
  "language_info": {
   "codemirror_mode": {
    "name": "ipython",
    "version": 3
   },
   "file_extension": ".py",
   "mimetype": "text/x-python",
   "name": "python",
   "nbconvert_exporter": "python",
   "pygments_lexer": "ipython3",
   "version": "3.10.8"
  }
 },
 "nbformat": 4,
 "nbformat_minor": 5
}
